{
  "nbformat": 4,
  "nbformat_minor": 0,
  "metadata": {
    "colab": {
      "provenance": [],
      "authorship_tag": "ABX9TyNndBSc0ZvSuWSWhRwqAOmc",
      "include_colab_link": true
    },
    "kernelspec": {
      "name": "python3",
      "display_name": "Python 3"
    },
    "language_info": {
      "name": "python"
    }
  },
  "cells": [
    {
      "cell_type": "markdown",
      "metadata": {
        "id": "view-in-github",
        "colab_type": "text"
      },
      "source": [
        "<a href=\"https://colab.research.google.com/github/kavithabantupalli/code/blob/main/Untitled11.ipynb\" target=\"_parent\"><img src=\"https://colab.research.google.com/assets/colab-badge.svg\" alt=\"Open In Colab\"/></a>"
      ]
    },
    {
      "cell_type": "code",
      "execution_count": null,
      "metadata": {
        "id": "V7zanIkjW_dy"
      },
      "outputs": [],
      "source": [
        "#Help Shopkeeper\n",
        "product = input()\n",
        "amount = float(input())\n",
        "if product == \"books\":\n",
        "    amount += amount*0.05\n",
        "elif product == \"electronics\":\n",
        "    amount += amount*0.12\n",
        "elif product == \"clothing\":\n",
        "    amount += amount*0.08\n",
        "print(format(amount,\".2f\"))\n",
        "\n",
        "#Ticket Manager\n",
        "def calculate_total_fare(num_passengers, distances):\n",
        "    total_fare = 0.0\n",
        "    for distance in distances:\n",
        "        if distance <= 5:\n",
        "            fare = 2.50\n",
        "        elif distance <= 10:\n",
        "            fare = 3.00\n",
        "        else:\n",
        "            fare = 3.50\n",
        "        total_fare += fare\n",
        "\n",
        "    return total_fare\n",
        "\n",
        "# Get input from the conductor\n",
        "num_passengers = int(input())\n",
        "distances = []\n",
        "for i in range(num_passengers):\n",
        "    distance = float(input())\n",
        "    distances.append(distance)\n",
        "\n",
        "# Calculate the total fare\n",
        "total_fare = calculate_total_fare(num_passengers, distances)\n",
        "\n",
        "# Display the total fare\n",
        "print(format(total_fare, \".2f\"))\n",
        "\n",
        "#Guard vs Thief\n",
        "import math\n",
        "\n",
        "def catch_thieves(thieves, catch_distance):\n",
        "    caught_thieves = []\n",
        "    for i, thief in enumerate(thieves):\n",
        "        x, y = thief\n",
        "        distance = math.sqrt(x**2 + y**2)\n",
        "        if distance <= catch_distance:\n",
        "            caught_thieves.append((i+1, x, y))\n",
        "    return caught_thieves\n",
        "\n",
        "def main():\n",
        "    num_thieves = int(input())\n",
        "    thieves = []\n",
        "    for i in range(num_thieves):\n",
        "        x, y = map(int, input().split())\n",
        "        thieves.append((x, y))\n",
        "    catch_distance = int(input())\n",
        "\n",
        "    caught_thieves = catch_thieves(thieves, catch_distance)\n",
        "\n",
        "    if len(caught_thieves) == 0:\n",
        "        print(\"No thieves caught\")\n",
        "    else:\n",
        "        for thief in caught_thieves:\n",
        "            index, x, y = thief\n",
        "            print(f\"Thief {index}: {x} {y}\")\n",
        "\n",
        "if __name__ == \"__main__\":\n",
        "    main()"
      ]
    },
    {
      "cell_type": "code",
      "source": [],
      "metadata": {
        "id": "mrJa77j2XAxH"
      },
      "execution_count": null,
      "outputs": []
    }
  ]
}